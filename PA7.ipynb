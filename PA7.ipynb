{
 "cells": [
  {
   "cell_type": "markdown",
   "id": "82d0aeeb",
   "metadata": {},
   "source": [
    "## Ty Johnson \n",
    "## PA7\n",
    "## 3/29/2023\n",
    "## Version 0"
   ]
  },
  {
   "cell_type": "code",
   "execution_count": 2,
   "id": "63037aad",
   "metadata": {},
   "outputs": [
    {
     "name": "stdout",
     "output_type": "stream",
     "text": [
      "2.0\n",
      "7\n",
      "1.9459101490553132\n",
      "78125\n",
      "3\n"
     ]
    }
   ],
   "source": [
    "import math \n",
    "class Calculator():\n",
    "    def add(self, x, y):\n",
    "        return x + y\n",
    "    def subtract(self, x, y):\n",
    "        return x - y\n",
    "    def divide(self, x, y):\n",
    "        return x / y\n",
    "    def multiply(self, x, y):\n",
    "        return x * y\n",
    "    def modulus(self, x, y):\n",
    "        return x % y\n",
    "    def exponent(self, x, y):\n",
    "        return x ** y\n",
    "    def squareRoot(self, x):\n",
    "        return math.sqrt(x)\n",
    "    def absolute(self, x):\n",
    "        return abs(x)\n",
    "    def floorDivision(self, x, y):\n",
    "        return x // y\n",
    "    def tangent(self, x):\n",
    "        return math.tan(x)\n",
    "    def cosine(self, x):\n",
    "        return math.cos(x)\n",
    "    def sine(self, x):\n",
    "        return math.sin(x)\n",
    "    def log(self, x):\n",
    "        return math.log(x)\n",
    "    def eExp(self, x):\n",
    "        return math.exp(x)\n",
    "    def roundToInt(self, x):\n",
    "        return round(x)\n",
    "    \n",
    "\n",
    "calc = Calculator()\n",
    "\n",
    "print(calc.squareRoot(4))\n",
    "print(calc.roundToInt(7.3))\n",
    "print(calc.log(7))\n",
    "print(calc.exponent(5,7))\n",
    "print(calc.floorDivision(7,2))"
   ]
  }
 ],
 "metadata": {
  "kernelspec": {
   "display_name": "Python 3 (ipykernel)",
   "language": "python",
   "name": "python3"
  },
  "language_info": {
   "codemirror_mode": {
    "name": "ipython",
    "version": 3
   },
   "file_extension": ".py",
   "mimetype": "text/x-python",
   "name": "python",
   "nbconvert_exporter": "python",
   "pygments_lexer": "ipython3",
   "version": "3.9.13"
  }
 },
 "nbformat": 4,
 "nbformat_minor": 5
}
